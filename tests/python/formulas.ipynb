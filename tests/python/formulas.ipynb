{
 "metadata": {
  "kernelspec": {
   "display_name": "Python 3",
   "language": "python",
   "name": "python3"
  },
  "language_info": {
   "codemirror_mode": {
    "name": "ipython",
    "version": 3
   },
   "file_extension": ".py",
   "mimetype": "text/x-python",
   "name": "python",
   "nbconvert_exporter": "python",
   "pygments_lexer": "ipython3",
   "version": "3.4.3+"
  },
  "name": "",
  "signature": "sha256:cfc83f0b7b20283f04b07c86bbe24732dca26649db1705746abad094cf20d9fb"
 },
 "nbformat": 3,
 "nbformat_minor": 0,
 "worksheets": [
  {
   "cells": [
    {
     "cell_type": "markdown",
     "metadata": {},
     "source": [
      "Handling LTL and PSL formulas\n",
      "============================="
     ]
    },
    {
     "cell_type": "code",
     "collapsed": false,
     "input": [
      "import spot"
     ],
     "language": "python",
     "metadata": {},
     "outputs": [],
     "prompt_number": 1
    },
    {
     "cell_type": "markdown",
     "metadata": {},
     "source": [
      "For interactive use, formulas can be entered as text strings and passed to the `spot.formula` constructor."
     ]
    },
    {
     "cell_type": "code",
     "collapsed": false,
     "input": [
      "f = spot.formula('p1 U p2 R (p3 & !p4)')\n",
      "f"
     ],
     "language": "python",
     "metadata": {},
     "outputs": [
      {
       "latex": [
        "$p_{1} \\mathbin{\\mathsf{U}} (p_{2} \\mathbin{\\mathsf{R}} (p_{3} \\land \\lnot p_{4}))$"
       ],
       "metadata": {},
       "output_type": "pyout",
       "prompt_number": 2,
       "text": [
        "p1 U (p2 R (p3 & !p4))"
       ]
      }
     ],
     "prompt_number": 2
    },
    {
     "cell_type": "code",
     "collapsed": false,
     "input": [
      "g = spot.formula('{a;b*;c[+]}<>->GFb'); g"
     ],
     "language": "python",
     "metadata": {},
     "outputs": [
      {
       "latex": [
        "$\\{a \\mathbin{\\mathsf{;}} b^{\\star} \\mathbin{\\mathsf{;}} c^+\\}\\mathrel{\\Diamond\\kern-1.7pt\\raise.4pt\\hbox{$\\mathord{\\rightarrow}$}} \\mathsf{G} \\mathsf{F} b$"
       ],
       "metadata": {},
       "output_type": "pyout",
       "prompt_number": 3,
       "text": [
        "{a;b[*];c[+]}<>-> GFb"
       ]
      }
     ],
     "prompt_number": 3
    },
    {
     "cell_type": "markdown",
     "metadata": {},
     "source": [
      "By default the parser recognizes an infix syntax, but when this fails, it tries to read the formula with the [LBT](http://www.tcs.hut.fi/Software/maria/tools/lbt/) syntax:"
     ]
    },
    {
     "cell_type": "code",
     "collapsed": false,
     "input": [
      "h = spot.formula('& | a b c'); h"
     ],
     "language": "python",
     "metadata": {},
     "outputs": [
      {
       "latex": [
        "$c \\land (a \\lor b)$"
       ],
       "metadata": {},
       "output_type": "pyout",
       "prompt_number": 4,
       "text": [
        "c & (a | b)"
       ]
      }
     ],
     "prompt_number": 4
    },
    {
     "cell_type": "markdown",
     "metadata": {},
     "source": [
      "By default, a formula object is presented using mathjax as above.\n",
      "When a formula is converted to string you get Spot's syntax by default:"
     ]
    },
    {
     "cell_type": "code",
     "collapsed": false,
     "input": [
      "str(f)"
     ],
     "language": "python",
     "metadata": {},
     "outputs": [
      {
       "metadata": {},
       "output_type": "pyout",
       "prompt_number": 5,
       "text": [
        "'p1 U (p2 R (p3 & !p4))'"
       ]
      }
     ],
     "prompt_number": 5
    },
    {
     "cell_type": "markdown",
     "metadata": {},
     "source": [
      "If you prefer to print the string in another syntax, you may use the `to_str()` method, with an argument that indicates the output format to use.  The `latex` format assumes that you will the define macros such as `\\U`, `\\R` to render all operators as you wish.  On the otherhand, the `sclatex` (with `sc` for self-contained) format hard-codes the rendering of each of those operators: this is typically the output that is used to render formulas using MathJax in a notebook. "
     ]
    },
    {
     "cell_type": "code",
     "collapsed": false,
     "input": [
      "for i in ['spot', 'spin', 'lbt', 'wring', 'utf8', 'latex', 'sclatex']:\n",
      "    print(\"%-10s%s\" % (i, f.to_str(i)))"
     ],
     "language": "python",
     "metadata": {},
     "outputs": [
      {
       "output_type": "stream",
       "stream": "stdout",
       "text": [
        "spot      p1 U (p2 R (p3 & !p4))\n",
        "spin      p1 U (p2 V (p3 && !p4))\n",
        "lbt       U p1 V p2 & p3 ! p4\n",
        "wring     (p1=1) U ((p2=1) R ((p3=1) * (p4=0)))\n",
        "utf8      p1 U (p2 R (p3\u2227\u00acp4))\n",
        "latex     p_{1} \\U (p_{2} \\R (p_{3} \\land \\lnot p_{4}))\n",
        "sclatex   p_{1} \\mathbin{\\mathsf{U}} (p_{2} \\mathbin{\\mathsf{R}} (p_{3} \\land \\lnot p_{4}))\n"
       ]
      }
     ],
     "prompt_number": 6
    },
    {
     "cell_type": "markdown",
     "metadata": {},
     "source": [
      "Formulas output via `format()` can also use some convenient shorthand to select the syntax:"
     ]
    },
    {
     "cell_type": "code",
     "collapsed": false,
     "input": [
      "print(\"\"\"\\\n",
      "Spin:               {0:s}\n",
      "Spin+parentheses:   {0:sp}\n",
      "Spot (default):     {0}\n",
      "Spot+shell quotes:  {0:q}\n",
      "LBT, right aligned: {0:l:~>40}\"\"\".format(f))"
     ],
     "language": "python",
     "metadata": {},
     "outputs": [
      {
       "output_type": "stream",
       "stream": "stdout",
       "text": [
        "Spin:               p1 U (p2 V (p3 && !p4))\n",
        "Spin+parentheses:   (p1) U ((p2) V ((p3) && (!(p4))))\n",
        "Spot (default):     p1 U (p2 R (p3 & !p4))\n",
        "Spot+shell quotes:  'p1 U (p2 R (p3 & !p4))'\n",
        "LBT, right aligned: ~~~~~~~~~~~~~~~~~~~~~U p1 V p2 & p3 ! p4\n"
       ]
      }
     ],
     "prompt_number": 7
    },
    {
     "cell_type": "markdown",
     "metadata": {},
     "source": [
      "The specifiers that can be used with `format` are documented as follows:"
     ]
    },
    {
     "cell_type": "code",
     "collapsed": false,
     "input": [
      "help(spot.formula.__format__)"
     ],
     "language": "python",
     "metadata": {},
     "outputs": [
      {
       "output_type": "stream",
       "stream": "stdout",
       "text": [
        "Help on function __format__ in module spot:\n",
        "\n",
        "__format__(self, spec)\n",
        "    Format the formula according to `spec`.\n",
        "    \n",
        "    Parameters\n",
        "    ----------\n",
        "    spec : str, optional\n",
        "        a list of letters that specify how the formula\n",
        "        should be formatted.\n",
        "    \n",
        "    Supported specifiers\n",
        "    --------------------\n",
        "    \n",
        "    - 'f': use Spot's syntax (default)\n",
        "    - '8': use Spot's syntax in UTF-8 mode\n",
        "    - 's': use Spin's syntax\n",
        "    - 'l': use LBT's syntax\n",
        "    - 'w': use Wring's syntax\n",
        "    - 'x': use LaTeX output\n",
        "    - 'X': use self-contained LaTeX output\n",
        "    \n",
        "    Add some of those letters for additional options:\n",
        "    \n",
        "    - 'p': use full parentheses\n",
        "    - 'c': escape the formula for CSV output (this will\n",
        "           enclose the formula in double quotes, and escape\n",
        "           any included double quotes)\n",
        "    - 'h': escape the formula for HTML output\n",
        "    - 'd': escape double quotes and backslash,\n",
        "           for use in C-strings (the outermost double\n",
        "           quotes are *not* added)\n",
        "    - 'q': quote and escape for shell output, using single\n",
        "           quotes or double quotes depending on the contents.\n",
        "    \n",
        "    - ':spec': pass the remaining specification to the\n",
        "               formating function for strings.\n",
        "\n"
       ]
      }
     ],
     "prompt_number": 8
    },
    {
     "cell_type": "markdown",
     "metadata": {},
     "source": [
      "A `spot.formula` object has a number of built-in predicates whose value have been computed when the formula was constructed.  For instance you can check whether a formula is in negative normal form using `is_in_nenoform()`, and you can make sure it is an LTL formula (i.e. not a PSL formula) using `is_ltl_formula()`:"
     ]
    },
    {
     "cell_type": "code",
     "collapsed": false,
     "input": [
      "f.is_in_nenoform() and f.is_ltl_formula()"
     ],
     "language": "python",
     "metadata": {},
     "outputs": [
      {
       "metadata": {},
       "output_type": "pyout",
       "prompt_number": 9,
       "text": [
        "True"
       ]
      }
     ],
     "prompt_number": 9
    },
    {
     "cell_type": "code",
     "collapsed": false,
     "input": [
      "g.is_ltl_formula()"
     ],
     "language": "python",
     "metadata": {},
     "outputs": [
      {
       "metadata": {},
       "output_type": "pyout",
       "prompt_number": 10,
       "text": [
        "False"
       ]
      }
     ],
     "prompt_number": 10
    },
    {
     "cell_type": "markdown",
     "metadata": {},
     "source": [
      "Similarly, `is_syntactic_stutter_invariant()` tells wether the structure of the formula guarranties it to be stutter invariant.  For LTL formula, this means the `X` operator should not be used.  For PSL formula, this function capture all formulas built using the [siPSL grammar](http://www.daxc.de/eth/paper/09atva.pdf)."
     ]
    },
    {
     "cell_type": "code",
     "collapsed": false,
     "input": [
      "f.is_syntactic_stutter_invariant()"
     ],
     "language": "python",
     "metadata": {},
     "outputs": [
      {
       "metadata": {},
       "output_type": "pyout",
       "prompt_number": 11,
       "text": [
        "True"
       ]
      }
     ],
     "prompt_number": 11
    },
    {
     "cell_type": "code",
     "collapsed": false,
     "input": [
      "spot.formula('{a[*];b}<>->c').is_syntactic_stutter_invariant()"
     ],
     "language": "python",
     "metadata": {},
     "outputs": [
      {
       "metadata": {},
       "output_type": "pyout",
       "prompt_number": 12,
       "text": [
        "False"
       ]
      }
     ],
     "prompt_number": 12
    },
    {
     "cell_type": "code",
     "collapsed": false,
     "input": [
      "spot.formula('{a[+];b[*]}<>->d').is_syntactic_stutter_invariant()"
     ],
     "language": "python",
     "metadata": {},
     "outputs": [
      {
       "metadata": {},
       "output_type": "pyout",
       "prompt_number": 13,
       "text": [
        "True"
       ]
      }
     ],
     "prompt_number": 13
    },
    {
     "cell_type": "markdown",
     "metadata": {},
     "source": [
      "`spot.relabel` renames the atomic propositions that occur in a formula, using either letters, or numbered propositions:"
     ]
    },
    {
     "cell_type": "code",
     "collapsed": false,
     "input": [
      "gf = spot.formula('(GF_foo_) && \"a > b\" && \"proc[2]@init\"'); gf"
     ],
     "language": "python",
     "metadata": {},
     "outputs": [
      {
       "latex": [
        "$``\\mathit{a > b}\\textrm{''} \\land ``\\mathit{proc[2]@init}\\textrm{''} \\land \\mathsf{G} \\mathsf{F} \\mathit{\\_foo\\_}$"
       ],
       "metadata": {},
       "output_type": "pyout",
       "prompt_number": 14,
       "text": [
        "\"a > b\" & \"proc[2]@init\" & GF_foo_"
       ]
      }
     ],
     "prompt_number": 14
    },
    {
     "cell_type": "code",
     "collapsed": false,
     "input": [
      "spot.relabel(gf, spot.Abc)"
     ],
     "language": "python",
     "metadata": {},
     "outputs": [
      {
       "latex": [
        "$a \\land b \\land \\mathsf{G} \\mathsf{F} c$"
       ],
       "metadata": {},
       "output_type": "pyout",
       "prompt_number": 15,
       "text": [
        "a & b & GFc"
       ]
      }
     ],
     "prompt_number": 15
    },
    {
     "cell_type": "code",
     "collapsed": false,
     "input": [
      "spot.relabel(gf, spot.Pnn)"
     ],
     "language": "python",
     "metadata": {},
     "outputs": [
      {
       "latex": [
        "$p_{0} \\land p_{1} \\land \\mathsf{G} \\mathsf{F} p_{2}$"
       ],
       "metadata": {},
       "output_type": "pyout",
       "prompt_number": 16,
       "text": [
        "p0 & p1 & GFp2"
       ]
      }
     ],
     "prompt_number": 16
    },
    {
     "cell_type": "markdown",
     "metadata": {},
     "source": [
      "The AST of any formula can be displayed with `show_ast()`.  Despite the name, this is not a tree but a DAG, because identical subtrees are merged.  Binary operators have their left and right operands denoted with `L` and `R`, while non-commutative n-ary operators have their operands numbered."
     ]
    },
    {
     "cell_type": "code",
     "collapsed": false,
     "input": [
      "print(g); g.show_ast()"
     ],
     "language": "python",
     "metadata": {},
     "outputs": [
      {
       "output_type": "stream",
       "stream": "stdout",
       "text": [
        "{a;b[*];c[+]}<>-> GFb\n"
       ]
      },
      {
       "metadata": {},
       "output_type": "pyout",
       "prompt_number": 17,
       "svg": [
        "<svg height=\"260pt\" version=\"1.1\" viewBox=\"0 0 269 260\" width=\"269pt\" xmlns=\"http://www.w3.org/2000/svg\" xmlns:xlink=\"http://www.w3.org/1999/xlink\">\n",
        "<defs>\n",
        "<g>\n",
        "<symbol id=\"glyph1-0-0\" overflow=\"visible\">\n",
        "<path d=\"\" style=\"stroke:none;\"/>\n",
        "</symbol>\n",
        "<symbol id=\"glyph1-0-1\" overflow=\"visible\">\n",
        "<path d=\"M 7.59375 -2.109375 L 7.203125 -2.109375 C 6.515625 -0.8125 5.921875 -0.515625 3.96875 -0.515625 L 3.59375 -0.515625 C 2.921875 -0.515625 2.34375 -0.578125 2.25 -0.65625 C 2.1875 -0.6875 2.15625 -0.828125 2.15625 -1.03125 L 2.15625 -4 L 4.265625 -4 C 5.390625 -4 5.609375 -3.84375 5.78125 -2.84375 L 6.09375 -2.84375 L 6.09375 -6.28125 L 5.78125 -6.28125 C 5.6875 -5.734375 5.625 -5.53125 5.484375 -5.34375 C 5.296875 -5.109375 4.921875 -5 4.265625 -5 L 2.15625 -5 L 2.15625 -8.015625 C 2.15625 -8.390625 2.234375 -8.46875 2.609375 -8.46875 L 4.46875 -8.46875 C 6.015625 -8.46875 6.3125 -8.265625 6.546875 -7.046875 L 6.890625 -7.046875 L 6.84375 -9 L -0.1875 -9 L -0.1875 -8.46875 C 0.828125 -8.46875 1 -8.28125 1 -7.34375 L 1 -1.40625 C 1 -0.46875 0.8125 -0.265625 -0.1875 -0.265625 L -0.1875 0 L 6.96875 0 Z M 7.59375 -2.109375 \" style=\"stroke:none;\"/>\n",
        "</symbol>\n",
        "<symbol id=\"glyph1-0-2\" overflow=\"visible\">\n",
        "<path d=\"M 7.6875 -6.28125 L 7.5625 -9 L 7.28125 -9 C 7.203125 -8.703125 7 -8.53125 6.734375 -8.53125 C 6.625 -8.53125 6.421875 -8.578125 6.234375 -8.65625 C 5.59375 -8.890625 4.953125 -9 4.34375 -9 C 3.28125 -9 2.203125 -8.59375 1.40625 -7.875 C 0.5 -7.0625 0 -5.859375 0 -4.421875 C 0 -3.203125 0.390625 -2.09375 1.046875 -1.34375 C 1.828125 -0.5 3.03125 0 4.3125 0 C 5.78125 0 7.0625 -0.625 7.859375 -1.734375 L 7.625 -1.96875 C 6.609375 -1.015625 5.703125 -0.609375 4.5625 -0.609375 C 3.703125 -0.609375 2.921875 -0.875 2.34375 -1.359375 C 1.578125 -1.984375 1.15625 -3.15625 1.15625 -4.59375 C 1.15625 -6.921875 2.4375 -8.4375 4.421875 -8.4375 C 5.203125 -8.4375 5.921875 -8.1875 6.46875 -7.734375 C 6.90625 -7.359375 7.109375 -7.03125 7.375 -6.28125 Z M 7.6875 -6.28125 \" style=\"stroke:none;\"/>\n",
        "</symbol>\n",
        "<symbol id=\"glyph1-0-3\" overflow=\"visible\">\n",
        "<path d=\"M 3.078125 -6 C 1.265625 -6 0 -4.78125 0 -3.015625 C 0 -1.296875 1.296875 0 3.0625 0 C 4.8125 0 6.15625 -1.359375 6.15625 -3.109375 C 6.15625 -4.78125 4.875 -6 3.078125 -6 Z M 2.890625 -5.609375 C 4.125 -5.609375 5 -4.40625 5 -2.671875 C 5 -1.25 4.34375 -0.390625 3.234375 -0.390625 C 2.65625 -0.390625 2.109375 -0.6875 1.796875 -1.203125 C 1.390625 -1.859375 1.15625 -2.734375 1.15625 -3.625 C 1.15625 -4.828125 1.84375 -5.609375 2.890625 -5.609375 Z M 2.890625 -5.609375 \" style=\"stroke:none;\"/>\n",
        "</symbol>\n",
        "<symbol id=\"glyph1-0-4\" overflow=\"visible\">\n",
        "<path d=\"M 0.125 -5.1875 C 0.203125 -5.21875 0.34375 -5.234375 0.5 -5.234375 C 0.875 -5.234375 1 -5.03125 1 -4.390625 L 1 -1.140625 C 1 -0.390625 0.84375 -0.203125 0.15625 -0.203125 L 0.15625 0 L 3.171875 0 L 3.171875 -0.203125 C 2.390625 -0.203125 2.15625 -0.359375 2.15625 -0.828125 L 2.15625 -4.53125 C 2.890625 -5.09375 3.21875 -5.234375 3.734375 -5.234375 C 4.484375 -5.234375 4.84375 -4.828125 4.84375 -3.96875 L 4.84375 -1.25 C 4.84375 -0.421875 4.640625 -0.203125 3.875 -0.203125 L 3.875 0 L 6.84375 0 L 6.84375 -0.203125 C 6.171875 -0.265625 6 -0.40625 6 -1.015625 L 6 -4.03125 C 6 -5.265625 5.359375 -6 4.28125 -6 C 3.609375 -6 3.15625 -5.78125 2.15625 -4.9375 L 2.15625 -5.96875 L 2.0625 -6 C 1.375 -5.75 0.890625 -5.59375 0.125 -5.375 Z M 0.125 -5.1875 \" style=\"stroke:none;\"/>\n",
        "</symbol>\n",
        "<symbol id=\"glyph1-0-5\" overflow=\"visible\">\n",
        "<path d=\"M 5.21875 -2.1875 C 4.5625 -1.3125 4.0625 -1.015625 3.28125 -1.015625 C 2.03125 -1.015625 1.15625 -2.015625 1.15625 -3.4375 C 1.15625 -4.71875 1.90625 -5.59375 3.015625 -5.59375 C 3.515625 -5.59375 3.6875 -5.453125 3.828125 -5 L 3.921875 -4.71875 C 4.03125 -4.375 4.265625 -4.15625 4.5625 -4.15625 C 4.921875 -4.15625 5.21875 -4.390625 5.21875 -4.671875 C 5.21875 -5.390625 4.234375 -6 3.0625 -6 C 2.375 -6 1.671875 -5.75 1.09375 -5.28125 C 0.390625 -4.71875 0 -3.859375 0 -2.84375 C 0 -1.1875 1.109375 0 2.65625 0 C 3.28125 0 3.84375 -0.203125 4.34375 -0.625 C 4.71875 -0.9375 4.984375 -1.28125 5.40625 -2.0625 Z M 5.21875 -2.1875 \" style=\"stroke:none;\"/>\n",
        "</symbol>\n",
        "<symbol id=\"glyph1-0-6\" overflow=\"visible\">\n",
        "<path d=\"M 6.171875 -1.03125 C 5.9375 -0.859375 5.78125 -0.796875 5.5625 -0.796875 C 5.25 -0.796875 5.15625 -0.96875 5.15625 -1.53125 L 5.15625 -3.953125 C 5.15625 -4.625 5.09375 -4.984375 4.875 -5.296875 C 4.578125 -5.75 3.984375 -6 3.171875 -6 C 1.859375 -6 0.84375 -5.375 0.84375 -4.5625 C 0.84375 -4.265625 1.109375 -4.015625 1.40625 -4.015625 C 1.71875 -4.015625 2 -4.265625 2 -4.546875 C 2 -4.59375 2 -4.65625 2 -4.734375 C 2 -4.859375 2 -4.953125 2 -5.046875 C 2 -5.375 2.4375 -5.65625 2.96875 -5.65625 C 3.640625 -5.65625 4 -5.296875 4 -4.625 L 4 -3.859375 C 2.0625 -3.0625 1.84375 -2.96875 1.296875 -2.484375 C 1.015625 -2.21875 0.84375 -1.796875 0.84375 -1.375 C 0.84375 -0.5625 1.40625 0 2.171875 0 C 2.734375 0 3.25 -0.28125 4.015625 -1 C 4.078125 -0.28125 4.34375 0 4.90625 0 C 5.390625 0 5.6875 -0.171875 6.171875 -0.703125 Z M 4 -1.75 C 4 -1.359375 3.9375 -1.25 3.671875 -1.09375 C 3.375 -0.921875 3.03125 -0.8125 2.78125 -0.8125 C 2.34375 -0.8125 2 -1.234375 2 -1.78125 L 2 -1.828125 C 2 -2.5625 2.5 -3.015625 4 -3.5625 Z M 4 -1.75 \" style=\"stroke:none;\"/>\n",
        "</symbol>\n",
        "<symbol id=\"glyph1-0-7\" overflow=\"visible\">\n",
        "<path d=\"M 3 -6 L 2 -6 L 2 -7.625 C 2 -7.765625 1.984375 -7.8125 1.90625 -7.8125 C 1.8125 -7.6875 1.71875 -7.5625 1.625 -7.421875 C 1.078125 -6.640625 0.46875 -5.96875 0.234375 -5.90625 C 0.078125 -5.8125 0 -5.71875 0 -5.640625 C 0 -5.609375 0.015625 -5.578125 0.0625 -5.546875 L 0.84375 -5.546875 L 0.84375 -1.6875 C 0.84375 -0.578125 1.15625 0 1.765625 0 C 2.265625 0 2.65625 -0.328125 3 -1.046875 L 3 -1.1875 C 2.8125 -0.859375 2.65625 -0.734375 2.46875 -0.734375 C 2.140625 -0.734375 2 -1.078125 2 -1.890625 L 2 -5.546875 L 3 -5.546875 Z M 3 -6 \" style=\"stroke:none;\"/>\n",
        "</symbol>\n",
        "<symbol id=\"glyph1-0-8\" overflow=\"visible\">\n",
        "<path d=\"M 7.265625 -2.390625 C 7.03125 -1.875 6.84375 -1.5625 6.640625 -1.328125 C 6.15625 -0.796875 5.390625 -0.546875 4.25 -0.546875 L 3.34375 -0.546875 C 2.328125 -0.546875 2.15625 -0.625 2.15625 -1.109375 L 2.15625 -7.578125 C 2.15625 -8.546875 2.34375 -8.734375 3.4375 -8.734375 L 3.4375 -9 L -0.1875 -9 L -0.1875 -8.734375 C 0.828125 -8.734375 1 -8.546875 1 -7.578125 L 1 -1.4375 C 1 -0.46875 0.8125 -0.265625 -0.1875 -0.265625 L -0.1875 0 L 6.9375 0 L 7.609375 -2.390625 Z M 7.265625 -2.390625 \" style=\"stroke:none;\"/>\n",
        "</symbol>\n",
        "<symbol id=\"glyph1-0-9\" overflow=\"visible\">\n",
        "<path d=\"M 9.953125 -4.828125 L 6.546875 -4.828125 L 6.546875 -4.59375 C 7.1875 -4.5625 7.359375 -4.515625 7.53125 -4.40625 C 7.75 -4.296875 7.84375 -4 7.84375 -3.4375 L 7.84375 -1.328125 C 7.84375 -0.90625 6.9375 -0.5625 5.875 -0.5625 C 3.46875 -0.5625 2 -2.03125 2 -4.4375 C 2 -5.65625 2.40625 -6.828125 3.0625 -7.453125 C 3.703125 -8.09375 4.625 -8.4375 5.625 -8.4375 C 6.4375 -8.4375 7.15625 -8.203125 7.734375 -7.75 C 8.171875 -7.390625 8.40625 -7.046875 8.78125 -6.28125 L 9 -6.28125 L 9 -9 L 8.6875 -9 C 8.609375 -8.734375 8.359375 -8.53125 8.0625 -8.53125 C 7.921875 -8.53125 7.703125 -8.578125 7.453125 -8.671875 C 6.84375 -8.890625 6.203125 -9 5.578125 -9 C 2.8125 -9 0.84375 -7.078125 0.84375 -4.421875 C 0.84375 -3.140625 1.203125 -2.171875 1.953125 -1.390625 C 2.859375 -0.5 4.15625 0 5.625 0 C 6.78125 0 8.46875 -0.484375 9 -0.953125 L 9 -3.59375 C 9 -4.359375 9.15625 -4.53125 9.953125 -4.59375 Z M 9.953125 -4.828125 \" style=\"stroke:none;\"/>\n",
        "</symbol>\n",
        "<symbol id=\"glyph1-0-10\" overflow=\"visible\">\n",
        "<path d=\"M 8.6875 -0.265625 C 8.1875 -0.265625 7.921875 -0.40625 7.53125 -0.859375 L 4.8125 -4.296875 C 5.6875 -4.46875 6.0625 -4.640625 6.5 -5.015625 C 6.90625 -5.359375 7.15625 -5.9375 7.15625 -6.59375 C 7.15625 -7.171875 6.96875 -7.6875 6.609375 -8.078125 C 6.09375 -8.640625 4.9375 -9 3.640625 -9 L -0.171875 -9 L -0.171875 -8.734375 C 0.859375 -8.625 1 -8.46875 1 -7.5 L 1 -1.5625 C 1 -0.4375 0.859375 -0.265625 -0.171875 -0.265625 L -0.171875 0 L 3.640625 0 L 3.640625 -0.265625 C 2.375 -0.265625 2.15625 -0.4375 2.15625 -1.421875 L 2.15625 -4.109375 L 3.078125 -4.140625 L 6.640625 0 L 8.6875 0 Z M 2.15625 -7.984375 C 2.15625 -8.375 2.34375 -8.484375 3 -8.484375 C 5.046875 -8.484375 6 -7.890625 6 -6.609375 C 6 -5.921875 5.65625 -5.34375 5.0625 -5.09375 C 4.3125 -4.734375 3.734375 -4.65625 2.15625 -4.625 Z M 2.15625 -7.984375 \" style=\"stroke:none;\"/>\n",
        "</symbol>\n",
        "<symbol id=\"glyph1-0-11\" overflow=\"visible\">\n",
        "<path d=\"M 4.046875 -9 L 1.59375 -8 C 1.765625 -8 1.90625 -8 1.96875 -8 C 2.21875 -8 2.453125 -8 2.59375 -8 C 2.875 -8 3 -7.796875 3 -7.359375 L 3 -1.25 C 3 -0.796875 2.890625 -0.484375 2.671875 -0.359375 C 2.46875 -0.25 2.28125 -0.203125 1.703125 -0.203125 L 1.703125 0 L 5.453125 0 L 5.453125 -0.203125 C 4.375 -0.203125 4.15625 -0.34375 4.15625 -1.015625 L 4.15625 -8.96875 Z M 4.046875 -9 \" style=\"stroke:none;\"/>\n",
        "</symbol>\n",
        "<symbol id=\"glyph1-0-12\" overflow=\"visible\">\n",
        "<path d=\"M 5.65625 -9 L 5.40625 -9 C 5.359375 -9 5.21875 -9 5.015625 -9 C 4.890625 -9 4.671875 -9 4.46875 -9 C 4 -9 3.546875 -9 3.140625 -9 C 2.609375 -9 2.0625 -8.78125 1.65625 -8.40625 C 1.21875 -8 1 -7.453125 1 -6.78125 C 1 -5.734375 1.546875 -5.015625 2.953125 -4.25 C 3.859375 -3.75 4.515625 -3.21875 4.828125 -2.71875 C 4.9375 -2.546875 5 -2.28125 5 -1.96875 C 5 -1.09375 4.375 -0.5 3.453125 -0.5 C 2.34375 -0.5 1.546875 -1.21875 0.921875 -2.828125 L 0.609375 -2.828125 L 1.015625 0 L 1.3125 0 C 1.328125 0 1.46875 0 1.65625 0 C 1.78125 0 2 0 2.234375 0 C 2.6875 0 3.171875 0 3.671875 0 C 5.078125 0 6.15625 -1.03125 6.15625 -2.359375 C 6.15625 -3.421875 5.5 -4.265625 3.921875 -5.1875 C 2.65625 -5.9375 2.15625 -6.515625 2.15625 -7.21875 C 2.15625 -7.921875 2.65625 -8.421875 3.40625 -8.421875 C 3.953125 -8.421875 4.46875 -8.1875 4.890625 -7.734375 C 5.265625 -7.34375 5.4375 -7.015625 5.625 -6.28125 L 5.90625 -6.28125 Z M 5.65625 -9 \" style=\"stroke:none;\"/>\n",
        "</symbol>\n",
        "<symbol id=\"glyph1-0-13\" overflow=\"visible\">\n",
        "<path d=\"M 0.046875 -5.078125 C 0.234375 -5.125 0.359375 -5.140625 0.53125 -5.140625 C 0.875 -5.140625 1 -4.9375 1 -4.359375 L 1 -1.109375 C 1 -0.453125 0.90625 -0.359375 0.03125 -0.203125 L 0.03125 0 L 3.328125 0 L 3.328125 -0.203125 C 2.390625 -0.203125 2.15625 -0.40625 2.15625 -1.140625 L 2.15625 -4.09375 C 2.15625 -4.515625 2.75 -5.171875 3.125 -5.171875 C 3.203125 -5.171875 3.328125 -5.109375 3.46875 -4.984375 C 3.703125 -4.796875 3.84375 -4.71875 4.03125 -4.71875 C 4.359375 -4.71875 4.5625 -4.9375 4.5625 -5.3125 C 4.5625 -5.734375 4.28125 -6 3.8125 -6 C 3.234375 -6 2.828125 -5.703125 2.15625 -4.765625 L 2.15625 -5.96875 L 2.09375 -6 C 1.359375 -5.71875 0.859375 -5.546875 0.046875 -5.296875 Z M 0.046875 -5.078125 \" style=\"stroke:none;\"/>\n",
        "</symbol>\n",
        "<symbol id=\"glyph1-0-14\" overflow=\"visible\">\n",
        "<path d=\"M 6.703125 -1.859375 L 6.515625 -1.921875 C 6.015625 -1.171875 5.828125 -1.0625 5.21875 -1.0625 L 1.96875 -1.0625 L 4.25 -3.390625 C 5.46875 -4.625 6 -5.625 6 -6.65625 C 6 -7.984375 4.890625 -9 3.46875 -9 C 2.71875 -9 2 -8.703125 1.5 -8.171875 C 1.0625 -7.71875 0.859375 -7.28125 0.625 -6.328125 L 0.921875 -6.265625 C 1.46875 -7.546875 1.96875 -7.96875 2.90625 -7.96875 C 4.0625 -7.96875 4.84375 -7.21875 4.84375 -6.109375 C 4.84375 -5.078125 4.21875 -3.84375 3.0625 -2.671875 L 0.625 -0.171875 L 0.625 0 L 5.953125 0 Z M 6.703125 -1.859375 \" style=\"stroke:none;\"/>\n",
        "</symbol>\n",
        "<symbol id=\"glyph1-0-15\" overflow=\"visible\">\n",
        "<path d=\"M 2.5625 -4.46875 C 3.25 -4.46875 3.53125 -4.4375 3.8125 -4.328125 C 4.546875 -4.046875 5 -3.3125 5 -2.421875 C 5 -1.34375 4.296875 -0.5 3.375 -0.5 C 3.03125 -0.5 2.78125 -0.59375 2.328125 -0.890625 C 1.953125 -1.125 1.75 -1.21875 1.53125 -1.21875 C 1.25 -1.21875 1.0625 -1.03125 1.0625 -0.765625 C 1.0625 -0.296875 1.609375 0 2.5 0 C 3.46875 0 4.484375 -0.34375 5.078125 -0.875 C 5.671875 -1.40625 6 -2.15625 6 -3.03125 C 6 -3.6875 5.828125 -4.296875 5.515625 -4.703125 C 5.3125 -4.984375 5.109375 -5.140625 4.640625 -5.390625 C 5.640625 -6 6 -6.5 6 -7.203125 C 6 -8.265625 5.109375 -9 3.828125 -9 C 3.125 -9 2.515625 -8.78125 2.015625 -8.34375 C 1.59375 -7.984375 1.390625 -7.640625 1.078125 -6.84375 L 1.296875 -6.796875 C 1.859375 -7.734375 2.46875 -8.15625 3.34375 -8.15625 C 4.234375 -8.15625 4.84375 -7.59375 4.84375 -6.78125 C 4.84375 -6.3125 4.640625 -5.84375 4.296875 -5.53125 C 3.875 -5.140625 3.5 -4.953125 2.5625 -4.640625 Z M 2.5625 -4.46875 \" style=\"stroke:none;\"/>\n",
        "</symbol>\n",
        "<symbol id=\"glyph1-0-16\" overflow=\"visible\">\n",
        "<path d=\"M 2.15625 -9.09375 L 2.09375 -9.125 C 1.515625 -8.90625 1.140625 -8.796875 0.5 -8.609375 L 0.09375 -8.5 L 0.09375 -8.28125 C 0.171875 -8.296875 0.234375 -8.296875 0.328125 -8.296875 C 0.875 -8.296875 1 -8.171875 1 -7.578125 L 1 -0.859375 C 1 -0.4375 2.09375 0 3.125 0 C 4.84375 0 6.15625 -1.40625 6.15625 -3.234375 C 6.15625 -4.796875 5.1875 -6 3.921875 -6 C 3.140625 -6 2.40625 -5.515625 2.15625 -4.84375 Z M 2.15625 -4.1875 C 2.15625 -4.671875 2.75 -5.125 3.390625 -5.125 C 4.375 -5.125 5 -4.15625 5 -2.640625 C 5 -1.25 4.40625 -0.453125 3.375 -0.453125 C 2.71875 -0.453125 2.15625 -0.734375 2.15625 -1.046875 Z M 2.15625 -4.1875 \" style=\"stroke:none;\"/>\n",
        "</symbol>\n",
        "<symbol id=\"glyph1-0-17\" overflow=\"visible\">\n",
        "<path d=\"M 5.96875 -2.8125 L 5.96875 -6.28125 L 5.65625 -6.28125 C 5.484375 -5.203125 5.25 -5 4.140625 -5 L 2.15625 -5 L 2.15625 -8.015625 C 2.15625 -8.390625 2.21875 -8.46875 2.59375 -8.46875 L 4.46875 -8.46875 C 6.015625 -8.46875 6.3125 -8.265625 6.546875 -7.046875 L 6.890625 -7.046875 L 6.84375 -9 L -0.1875 -9 L -0.1875 -8.46875 C 0.828125 -8.46875 1 -8.28125 1 -7.34375 L 1 -1.546875 C 1 -0.4375 0.84375 -0.265625 -0.1875 -0.265625 L -0.1875 0 L 3.40625 0 L 3.40625 -0.265625 C 2.34375 -0.265625 2.15625 -0.4375 2.15625 -1.328125 L 2.15625 -4 L 4.140625 -4 C 5.265625 -4 5.484375 -3.8125 5.65625 -2.8125 Z M 5.96875 -2.8125 \" style=\"stroke:none;\"/>\n",
        "</symbol>\n",
        "</g>\n",
        "</defs>\n",
        "<g id=\"surface1\">\n",
        "<rect height=\"260\" style=\"fill:rgb(100%,100%,100%);fill-opacity:1;stroke:none;\" width=\"269\" x=\"0\" y=\"0\"/>\n",
        "<path d=\"M 146.894531 -234 C 146.894531 -224.058594 128.585938 -216 106 -216 C 83.414062 -216 65.105469 -224.058594 65.105469 -234 C 65.105469 -243.941406 83.414062 -252 106 -252 C 128.585938 -252 146.894531 -243.941406 146.894531 -234 \" style=\"fill:none;stroke-width:1;stroke-linecap:butt;stroke-linejoin:round;stroke:rgb(0%,0%,0%);stroke-opacity:1;stroke-miterlimit:10;\" transform=\"matrix(1,0,0,1,4,256)\"/>\n",
        "<g style=\"fill:rgb(0%,0%,0%);fill-opacity:1;\">\n",
        "  <use x=\"86.5\" xlink:href=\"#glyph1-0-1\" y=\"25.699219\"/>\n",
        "  <use x=\"94.75\" xlink:href=\"#glyph1-0-2\" y=\"25.699219\"/>\n",
        "  <use x=\"103.75\" xlink:href=\"#glyph1-0-3\" y=\"25.699219\"/>\n",
        "  <use x=\"110.5\" xlink:href=\"#glyph1-0-4\" y=\"25.699219\"/>\n",
        "  <use x=\"117.25\" xlink:href=\"#glyph1-0-5\" y=\"25.699219\"/>\n",
        "  <use x=\"123.25\" xlink:href=\"#glyph1-0-6\" y=\"25.699219\"/>\n",
        "  <use x=\"129.25\" xlink:href=\"#glyph1-0-7\" y=\"25.699219\"/>\n",
        "</g>\n",
        "<path d=\"M 190.996094 -162 C 190.996094 -152.058594 174.878906 -144 155 -144 C 135.121094 -144 119.003906 -152.058594 119.003906 -162 C 119.003906 -171.941406 135.121094 -180 155 -180 C 174.878906 -180 190.996094 -171.941406 190.996094 -162 \" style=\"fill:none;stroke-width:1;stroke-linecap:butt;stroke-linejoin:round;stroke:rgb(0%,0%,0%);stroke-opacity:1;stroke-miterlimit:10;\" transform=\"matrix(1,0,0,1,4,256)\"/>\n",
        "<g style=\"fill:rgb(0%,0%,0%);fill-opacity:1;\">\n",
        "  <use x=\"139.5\" xlink:href=\"#glyph1-0-2\" y=\"97.699219\"/>\n",
        "  <use x=\"148.5\" xlink:href=\"#glyph1-0-3\" y=\"97.699219\"/>\n",
        "  <use x=\"155.25\" xlink:href=\"#glyph1-0-4\" y=\"97.699219\"/>\n",
        "  <use x=\"162\" xlink:href=\"#glyph1-0-5\" y=\"97.699219\"/>\n",
        "  <use x=\"168\" xlink:href=\"#glyph1-0-6\" y=\"97.699219\"/>\n",
        "  <use x=\"174\" xlink:href=\"#glyph1-0-7\" y=\"97.699219\"/>\n",
        "</g>\n",
        "<path d=\"M 117.613281 -216.410156 C 123.59375 -207.867188 131.003906 -197.277344 137.648438 -187.789062 \" style=\"fill:none;stroke-width:1;stroke-linecap:butt;stroke-linejoin:round;stroke:rgb(0%,0%,0%);stroke-opacity:1;stroke-miterlimit:10;\" transform=\"matrix(1,0,0,1,4,256)\"/>\n",
        "<path d=\"M 140.605469 -189.667969 L 143.472656 -179.46875 L 134.867188 -185.65625 Z M 140.605469 -189.667969 \" style=\"fill-rule:nonzero;fill:rgb(0%,0%,0%);fill-opacity:1;stroke-width:1;stroke-linecap:butt;stroke-linejoin:round;stroke:rgb(0%,0%,0%);stroke-opacity:1;stroke-miterlimit:10;\" transform=\"matrix(1,0,0,1,4,256)\"/>\n",
        "<g style=\"fill:rgb(0%,0%,0%);fill-opacity:1;\">\n",
        "  <use x=\"112.613281\" xlink:href=\"#glyph1-0-8\" y=\"50.789062\"/>\n",
        "</g>\n",
        "<path d=\"M 85 -162 C 85 -152.058594 72.910156 -144 58 -144 C 43.089844 -144 31 -152.058594 31 -162 C 31 -171.941406 43.089844 -180 58 -180 C 72.910156 -180 85 -171.941406 85 -162 \" style=\"fill:none;stroke-width:1;stroke-linecap:butt;stroke-linejoin:round;stroke:rgb(0%,0%,0%);stroke-opacity:1;stroke-miterlimit:10;\" transform=\"matrix(1,0,0,1,4,256)\"/>\n",
        "<g style=\"fill:rgb(0%,0%,0%);fill-opacity:1;\">\n",
        "  <use x=\"57\" xlink:href=\"#glyph1-0-9\" y=\"97.699219\"/>\n",
        "</g>\n",
        "<path d=\"M 94.625 -216.410156 C 88.679688 -207.742188 81.292969 -196.972656 74.714844 -187.375 \" style=\"fill:none;stroke-width:1;stroke-linecap:butt;stroke-linejoin:round;stroke:rgb(0%,0%,0%);stroke-opacity:1;stroke-miterlimit:10;\" transform=\"matrix(1,0,0,1,4,256)\"/>\n",
        "<path d=\"M 77.503906 -185.257812 L 68.964844 -178.988281 L 71.730469 -189.214844 Z M 77.503906 -185.257812 \" style=\"fill-rule:nonzero;fill:rgb(0%,0%,0%);fill-opacity:1;stroke-width:1;stroke-linecap:butt;stroke-linejoin:round;stroke:rgb(0%,0%,0%);stroke-opacity:1;stroke-miterlimit:10;\" transform=\"matrix(1,0,0,1,4,256)\"/>\n",
        "<g style=\"fill:rgb(0%,0%,0%);fill-opacity:1;\">\n",
        "  <use x=\"88.625\" xlink:href=\"#glyph1-0-10\" y=\"50.789062\"/>\n",
        "</g>\n",
        "<path d=\"M 261 -36 L 207 -36 L 207 0 L 261 0 Z M 261 -36 \" style=\"fill:none;stroke-width:1;stroke-linecap:butt;stroke-linejoin:round;stroke:rgb(0%,0%,0%);stroke-opacity:1;stroke-miterlimit:10;\" transform=\"matrix(1,0,0,1,4,256)\"/>\n",
        "<g style=\"fill:rgb(0%,0%,0%);fill-opacity:1;\">\n",
        "  <use x=\"234.5\" xlink:href=\"#glyph1-0-6\" y=\"241.699219\"/>\n",
        "</g>\n",
        "<path d=\"M 173.171875 -146.484375 C 184.355469 -136.683594 198.191406 -122.859375 207 -108 C 218.359375 -88.84375 225.316406 -64.492188 229.316406 -46.105469 \" style=\"fill:none;stroke-width:1;stroke-linecap:butt;stroke-linejoin:round;stroke:rgb(0%,0%,0%);stroke-opacity:1;stroke-miterlimit:10;\" transform=\"matrix(1,0,0,1,4,256)\"/>\n",
        "<path d=\"M 232.796875 -46.550781 L 231.339844 -36.054688 L 225.933594 -45.167969 Z M 232.796875 -46.550781 \" style=\"fill-rule:nonzero;fill:rgb(0%,0%,0%);fill-opacity:1;stroke-width:1;stroke-linecap:butt;stroke-linejoin:round;stroke:rgb(0%,0%,0%);stroke-opacity:1;stroke-miterlimit:10;\" transform=\"matrix(1,0,0,1,4,256)\"/>\n",
        "<g style=\"fill:rgb(0%,0%,0%);fill-opacity:1;\">\n",
        "  <use x=\"170.171875\" xlink:href=\"#glyph1-0-11\" y=\"120.714844\"/>\n",
        "</g>\n",
        "<path d=\"M 126 -90 C 126 -80.058594 113.910156 -72 99 -72 C 84.089844 -72 72 -80.058594 72 -90 C 72 -99.941406 84.089844 -108 99 -108 C 113.910156 -108 126 -99.941406 126 -90 \" style=\"fill:none;stroke-width:1;stroke-linecap:butt;stroke-linejoin:round;stroke:rgb(0%,0%,0%);stroke-opacity:1;stroke-miterlimit:10;\" transform=\"matrix(1,0,0,1,4,256)\"/>\n",
        "<g style=\"fill:rgb(0%,0%,0%);fill-opacity:1;\">\n",
        "  <use x=\"92\" xlink:href=\"#glyph1-0-12\" y=\"169.699219\"/>\n",
        "  <use x=\"99.5\" xlink:href=\"#glyph1-0-7\" y=\"169.699219\"/>\n",
        "  <use x=\"103.25\" xlink:href=\"#glyph1-0-6\" y=\"169.699219\"/>\n",
        "  <use x=\"109.25\" xlink:href=\"#glyph1-0-13\" y=\"169.699219\"/>\n",
        "</g>\n",
        "<path d=\"M 142.292969 -145.117188 C 135.03125 -136.039062 125.792969 -124.488281 117.714844 -114.394531 \" style=\"fill:none;stroke-width:1;stroke-linecap:butt;stroke-linejoin:round;stroke:rgb(0%,0%,0%);stroke-opacity:1;stroke-miterlimit:10;\" transform=\"matrix(1,0,0,1,4,256)\"/>\n",
        "<path d=\"M 120.253906 -111.960938 L 111.273438 -106.339844 L 114.785156 -116.335938 Z M 120.253906 -111.960938 \" style=\"fill-rule:nonzero;fill:rgb(0%,0%,0%);fill-opacity:1;stroke-width:1;stroke-linecap:butt;stroke-linejoin:round;stroke:rgb(0%,0%,0%);stroke-opacity:1;stroke-miterlimit:10;\" transform=\"matrix(1,0,0,1,4,256)\"/>\n",
        "<g style=\"fill:rgb(0%,0%,0%);fill-opacity:1;\">\n",
        "  <use x=\"139.292969\" xlink:href=\"#glyph1-0-14\" y=\"122.085938\"/>\n",
        "</g>\n",
        "<path d=\"M 198 -90 C 198 -80.058594 185.910156 -72 171 -72 C 156.089844 -72 144 -80.058594 144 -90 C 144 -99.941406 156.089844 -108 171 -108 C 185.910156 -108 198 -99.941406 198 -90 \" style=\"fill:none;stroke-width:1;stroke-linecap:butt;stroke-linejoin:round;stroke:rgb(0%,0%,0%);stroke-opacity:1;stroke-miterlimit:10;\" transform=\"matrix(1,0,0,1,4,256)\"/>\n",
        "<g style=\"fill:rgb(0%,0%,0%);fill-opacity:1;\">\n",
        "  <use x=\"164\" xlink:href=\"#glyph1-0-12\" y=\"169.699219\"/>\n",
        "  <use x=\"171.5\" xlink:href=\"#glyph1-0-7\" y=\"169.699219\"/>\n",
        "  <use x=\"175.25\" xlink:href=\"#glyph1-0-6\" y=\"169.699219\"/>\n",
        "  <use x=\"181.25\" xlink:href=\"#glyph1-0-13\" y=\"169.699219\"/>\n",
        "</g>\n",
        "<path d=\"M 158.875 -144.054688 C 160.65625 -136.261719 162.8125 -126.820312 164.808594 -118.078125 \" style=\"fill:none;stroke-width:1;stroke-linecap:butt;stroke-linejoin:round;stroke:rgb(0%,0%,0%);stroke-opacity:1;stroke-miterlimit:10;\" transform=\"matrix(1,0,0,1,4,256)\"/>\n",
        "<path d=\"M 168.234375 -118.804688 L 167.050781 -108.273438 L 161.410156 -117.242188 Z M 168.234375 -118.804688 \" style=\"fill-rule:nonzero;fill:rgb(0%,0%,0%);fill-opacity:1;stroke-width:1;stroke-linecap:butt;stroke-linejoin:round;stroke:rgb(0%,0%,0%);stroke-opacity:1;stroke-miterlimit:10;\" transform=\"matrix(1,0,0,1,4,256)\"/>\n",
        "<g style=\"fill:rgb(0%,0%,0%);fill-opacity:1;\">\n",
        "  <use x=\"155.875\" xlink:href=\"#glyph1-0-15\" y=\"123.144531\"/>\n",
        "</g>\n",
        "<path d=\"M 81 -36 L 27 -36 L 27 0 L 81 0 Z M 81 -36 \" style=\"fill:none;stroke-width:1;stroke-linecap:butt;stroke-linejoin:round;stroke:rgb(0%,0%,0%);stroke-opacity:1;stroke-miterlimit:10;\" transform=\"matrix(1,0,0,1,4,256)\"/>\n",
        "<g style=\"fill:rgb(0%,0%,0%);fill-opacity:1;\">\n",
        "  <use x=\"54.5\" xlink:href=\"#glyph1-0-16\" y=\"241.699219\"/>\n",
        "</g>\n",
        "<path d=\"M 88.789062 -73.117188 C 83.445312 -64.800781 76.765625 -54.410156 70.691406 -44.960938 \" style=\"fill:none;stroke-width:1;stroke-linecap:butt;stroke-linejoin:round;stroke:rgb(0%,0%,0%);stroke-opacity:1;stroke-miterlimit:10;\" transform=\"matrix(1,0,0,1,4,256)\"/>\n",
        "<path d=\"M 73.46875 -42.8125 L 65.117188 -36.292969 L 67.578125 -46.597656 Z M 73.46875 -42.8125 \" style=\"fill-rule:nonzero;fill:rgb(0%,0%,0%);fill-opacity:1;stroke-width:1;stroke-linecap:butt;stroke-linejoin:round;stroke:rgb(0%,0%,0%);stroke-opacity:1;stroke-miterlimit:10;\" transform=\"matrix(1,0,0,1,4,256)\"/>\n",
        "<path d=\"M 189 -36 L 135 -36 L 135 0 L 189 0 Z M 189 -36 \" style=\"fill:none;stroke-width:1;stroke-linecap:butt;stroke-linejoin:round;stroke:rgb(0%,0%,0%);stroke-opacity:1;stroke-miterlimit:10;\" transform=\"matrix(1,0,0,1,4,256)\"/>\n",
        "<g style=\"fill:rgb(0%,0%,0%);fill-opacity:1;\">\n",
        "  <use x=\"162.5\" xlink:href=\"#glyph1-0-5\" y=\"241.699219\"/>\n",
        "</g>\n",
        "<path d=\"M 168.820312 -72.054688 C 167.832031 -64.34375 166.632812 -55.027344 165.519531 -46.363281 \" style=\"fill:none;stroke-width:1;stroke-linecap:butt;stroke-linejoin:round;stroke:rgb(0%,0%,0%);stroke-opacity:1;stroke-miterlimit:10;\" transform=\"matrix(1,0,0,1,4,256)\"/>\n",
        "<path d=\"M 168.96875 -45.746094 L 164.222656 -36.273438 L 162.023438 -46.640625 Z M 168.96875 -45.746094 \" style=\"fill-rule:nonzero;fill:rgb(0%,0%,0%);fill-opacity:1;stroke-width:1;stroke-linecap:butt;stroke-linejoin:round;stroke:rgb(0%,0%,0%);stroke-opacity:1;stroke-miterlimit:10;\" transform=\"matrix(1,0,0,1,4,256)\"/>\n",
        "<path d=\"M 54 -90 C 54 -80.058594 41.910156 -72 27 -72 C 12.089844 -72 0 -80.058594 0 -90 C 0 -99.941406 12.089844 -108 27 -108 C 41.910156 -108 54 -99.941406 54 -90 \" style=\"fill:none;stroke-width:1;stroke-linecap:butt;stroke-linejoin:round;stroke:rgb(0%,0%,0%);stroke-opacity:1;stroke-miterlimit:10;\" transform=\"matrix(1,0,0,1,4,256)\"/>\n",
        "<g style=\"fill:rgb(0%,0%,0%);fill-opacity:1;\">\n",
        "  <use x=\"27\" xlink:href=\"#glyph1-0-17\" y=\"169.699219\"/>\n",
        "</g>\n",
        "<path d=\"M 50.652344 -144.410156 C 46.984375 -136.128906 42.464844 -125.925781 38.363281 -116.660156 \" style=\"fill:none;stroke-width:1;stroke-linecap:butt;stroke-linejoin:round;stroke:rgb(0%,0%,0%);stroke-opacity:1;stroke-miterlimit:10;\" transform=\"matrix(1,0,0,1,4,256)\"/>\n",
        "<path d=\"M 41.542969 -115.195312 L 34.292969 -107.46875 L 35.144531 -118.03125 Z M 41.542969 -115.195312 \" style=\"fill-rule:nonzero;fill:rgb(0%,0%,0%);fill-opacity:1;stroke-width:1;stroke-linecap:butt;stroke-linejoin:round;stroke:rgb(0%,0%,0%);stroke-opacity:1;stroke-miterlimit:10;\" transform=\"matrix(1,0,0,1,4,256)\"/>\n",
        "<path d=\"M 33.398438 -72.410156 C 36.433594 -64.539062 40.140625 -54.929688 43.570312 -46.042969 \" style=\"fill:none;stroke-width:1;stroke-linecap:butt;stroke-linejoin:round;stroke:rgb(0%,0%,0%);stroke-opacity:1;stroke-miterlimit:10;\" transform=\"matrix(1,0,0,1,4,256)\"/>\n",
        "<path d=\"M 46.9375 -47.035156 L 47.269531 -36.445312 L 40.40625 -44.515625 Z M 46.9375 -47.035156 \" style=\"fill-rule:nonzero;fill:rgb(0%,0%,0%);fill-opacity:1;stroke-width:1;stroke-linecap:butt;stroke-linejoin:round;stroke:rgb(0%,0%,0%);stroke-opacity:1;stroke-miterlimit:10;\" transform=\"matrix(1,0,0,1,4,256)\"/>\n",
        "</g>\n",
        "</svg>"
       ],
       "text": [
        "<IPython.core.display.SVG at 0x7fbc1cdc8ba8>"
       ]
      }
     ],
     "prompt_number": 17
    },
    {
     "cell_type": "code",
     "collapsed": false,
     "input": [
      "f = spot.formula('F(a & X(!a & b))'); f"
     ],
     "language": "python",
     "metadata": {},
     "outputs": [
      {
       "latex": [
        "$\\mathsf{F} (a \\land \\mathsf{X} (\\lnot a \\land b))$"
       ],
       "metadata": {},
       "output_type": "pyout",
       "prompt_number": 18,
       "text": [
        "F(a & X(!a & b))"
       ]
      }
     ],
     "prompt_number": 18
    },
    {
     "cell_type": "markdown",
     "metadata": {},
     "source": [
      "Etessami's rule for removing X (valid only in stutter-invariant formulas)"
     ]
    },
    {
     "cell_type": "code",
     "collapsed": false,
     "input": [
      "spot.remove_x(f)"
     ],
     "language": "python",
     "metadata": {},
     "outputs": [
      {
       "latex": [
        "$\\mathsf{F} (a \\land ((a \\land (a \\mathbin{\\mathsf{U}} (\\lnot a \\land b)) \\land ((\\lnot b \\mathbin{\\mathsf{U}} \\lnot a) \\lor (b \\mathbin{\\mathsf{U}} \\lnot a))) \\lor (\\lnot a \\land (\\lnot a \\mathbin{\\mathsf{U}} (a \\land \\lnot a \\land b)) \\land ((\\lnot b \\mathbin{\\mathsf{U}} a) \\lor (b \\mathbin{\\mathsf{U}} a))) \\lor (b \\land (b \\mathbin{\\mathsf{U}} (\\lnot a \\land b \\land \\lnot b)) \\land ((\\lnot a \\mathbin{\\mathsf{U}} \\lnot b) \\lor (a \\mathbin{\\mathsf{U}} \\lnot b))) \\lor (\\lnot b \\land (\\lnot b \\mathbin{\\mathsf{U}} (\\lnot a \\land b)) \\land ((\\lnot a \\mathbin{\\mathsf{U}} b) \\lor (a \\mathbin{\\mathsf{U}} b))) \\lor (\\lnot a \\land b \\land (\\mathsf{G} \\lnot a \\lor \\mathsf{G} a) \\land (\\mathsf{G} \\lnot b \\lor \\mathsf{G} b))))$"
       ],
       "metadata": {},
       "output_type": "pyout",
       "prompt_number": 19,
       "text": [
        "F(a & ((a & (a U (!a & b)) & ((!b U !a) | (b U !a))) | (!a & (!a U (a & !a & b)) & ((!b U a) | (b U a))) | (b & (b U (!a & b & !b)) & ((!a U !b) | (a U !b))) | (!b & (!b U (!a & b)) & ((!a U b) | (a U b))) | (!a & b & (G!a | Ga) & (G!b | Gb))))"
       ]
      }
     ],
     "prompt_number": 19
    },
    {
     "cell_type": "markdown",
     "metadata": {},
     "source": [
      "Removing abbreviated operators"
     ]
    },
    {
     "cell_type": "code",
     "collapsed": false,
     "input": [
      "f = spot.formula(\"G(a xor b) -> F(a <-> b)\")\n",
      "spot.unabbreviate(f, \"GF^\")"
     ],
     "language": "python",
     "metadata": {},
     "outputs": [
      {
       "latex": [
        "$(\\bot \\mathbin{\\mathsf{R}} \\lnot (a \\leftrightarrow b)) \\rightarrow (\\top \\mathbin{\\mathsf{U}} (a \\leftrightarrow b))$"
       ],
       "metadata": {},
       "output_type": "pyout",
       "prompt_number": 20,
       "text": [
        "(0 R !(a <-> b)) -> (1 U (a <-> b))"
       ]
      }
     ],
     "prompt_number": 20
    },
    {
     "cell_type": "code",
     "collapsed": false,
     "input": [
      "spot.unabbreviate(f, \"GF^ei\")"
     ],
     "language": "python",
     "metadata": {},
     "outputs": [
      {
       "latex": [
        "$(\\top \\mathbin{\\mathsf{U}} ((a \\land b) \\lor (\\lnot a \\land \\lnot b))) \\lor \\lnot (\\bot \\mathbin{\\mathsf{R}} ((\\lnot a \\land b) \\lor (a \\land \\lnot b)))$"
       ],
       "metadata": {},
       "output_type": "pyout",
       "prompt_number": 21,
       "text": [
        "(1 U ((a & b) | (!a & !b))) | !(0 R ((!a & b) | (a & !b)))"
       ]
      }
     ],
     "prompt_number": 21
    }
   ],
   "metadata": {}
  }
 ]
}