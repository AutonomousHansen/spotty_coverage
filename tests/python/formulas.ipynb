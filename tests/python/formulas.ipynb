{
 "cells": [
  {
   "cell_type": "markdown",
   "metadata": {},
   "source": [
    "Handling LTL and PSL formulas\n",
    "============================="
   ]
  },
  {
   "cell_type": "code",
   "execution_count": 1,
   "metadata": {},
   "outputs": [],
   "source": [
    "import spot\n",
    "from IPython.display import display # not needed with recent Jupyter"
   ]
  },
  {
   "cell_type": "markdown",
   "metadata": {},
   "source": [
    "For interactive use, formulas can be entered as text strings and passed to the `spot.formula` constructor."
   ]
  },
  {
   "cell_type": "code",
   "execution_count": 2,
   "metadata": {},
   "outputs": [
    {
     "data": {
      "text/latex": [
       "$p_{1} \\mathbin{\\mathsf{U}} (p_{2} \\mathbin{\\mathsf{R}} (p_{3} \\land \\lnot p_{4}))$"
      ],
      "text/plain": [
       "spot.formula(\"p1 U (p2 R (p3 & !p4))\")"
      ]
     },
     "execution_count": 2,
     "metadata": {},
     "output_type": "execute_result"
    }
   ],
   "source": [
    "f = spot.formula('p1 U p2 R (p3 & !p4)')\n",
    "f"
   ]
  },
  {
   "cell_type": "code",
   "execution_count": 3,
   "metadata": {},
   "outputs": [
    {
     "data": {
      "text/latex": [
       "$\\{a \\mathbin{\\mathsf{;}} b^{\\star} \\mathbin{\\mathsf{;}} c^+\\}\\mathrel{\\Diamond\\kern-1.7pt\\raise.4pt\\hbox{$\\mathord{\\rightarrow}$}} (c \\land \\mathsf{G} \\mathsf{F} b)$"
      ],
      "text/plain": [
       "spot.formula(\"{a;b[*];c[+]}<>-> (c & GFb)\")"
      ]
     },
     "execution_count": 3,
     "metadata": {},
     "output_type": "execute_result"
    }
   ],
   "source": [
    "g = spot.formula('{a;b*;c[+]}<>->(GFb & c)'); g"
   ]
  },
  {
   "cell_type": "markdown",
   "metadata": {},
   "source": [
    "By default the parser recognizes an infix syntax, but when this fails, it tries to read the formula with the [LBT](http://www.tcs.hut.fi/Software/maria/tools/lbt/) syntax:"
   ]
  },
  {
   "cell_type": "code",
   "execution_count": 4,
   "metadata": {},
   "outputs": [
    {
     "data": {
      "text/latex": [
       "$c \\land (a \\lor b)$"
      ],
      "text/plain": [
       "spot.formula(\"c & (a | b)\")"
      ]
     },
     "execution_count": 4,
     "metadata": {},
     "output_type": "execute_result"
    }
   ],
   "source": [
    "h = spot.formula('& | a b c'); h"
   ]
  },
  {
   "cell_type": "markdown",
   "metadata": {},
   "source": [
    "Passing a `formula` to `spot.formula` simply returns the formula."
   ]
  },
  {
   "cell_type": "code",
   "execution_count": 5,
   "metadata": {},
   "outputs": [
    {
     "data": {
      "text/latex": [
       "$c \\land (a \\lor b)$"
      ],
      "text/plain": [
       "spot.formula(\"c & (a | b)\")"
      ]
     },
     "execution_count": 5,
     "metadata": {},
     "output_type": "execute_result"
    }
   ],
   "source": [
    "spot.formula(h)"
   ]
  },
  {
   "cell_type": "markdown",
   "metadata": {},
   "source": [
    "By default, a formula object is presented using mathjax as above.\n",
    "When a formula is converted to string you get Spot's syntax by default:"
   ]
  },
  {
   "cell_type": "code",
   "execution_count": 6,
   "metadata": {},
   "outputs": [
    {
     "data": {
      "text/plain": [
       "'p1 U (p2 R (p3 & !p4))'"
      ]
     },
     "execution_count": 6,
     "metadata": {},
     "output_type": "execute_result"
    }
   ],
   "source": [
    "str(f)"
   ]
  },
  {
   "cell_type": "markdown",
   "metadata": {},
   "source": [
    "If you prefer to print the string in another syntax, you may use the `to_str()` method, with an argument that indicates the output format to use.  The `latex` format assumes that you will the define macros such as `\\U`, `\\R` to render all operators as you wish.  On the otherhand, the `sclatex` (with `sc` for self-contained) format hard-codes the rendering of each of those operators: this is almost the same output that is used to render formulas using MathJax in a notebook. `sclatex` and `mathjax` only differ in the rendering of double-quoted atomic propositions."
   ]
  },
  {
   "cell_type": "code",
   "execution_count": 7,
   "metadata": {},
   "outputs": [
    {
     "name": "stdout",
     "output_type": "stream",
     "text": [
      "spot      p1 U (p2 R (p3 & !p4))\n",
      "spin      p1 U (p2 V (p3 && !p4))\n",
      "lbt       U p1 V p2 & p3 ! p4\n",
      "wring     (p1=1) U ((p2=1) R ((p3=1) * (p4=0)))\n",
      "utf8      p1 U (p2 R (p3∧¬p4))\n",
      "latex     p_{1} \\U (p_{2} \\R (p_{3} \\land \\lnot p_{4}))\n",
      "sclatex   p_{1} \\mathbin{\\mathsf{U}} (p_{2} \\mathbin{\\mathsf{R}} (p_{3} \\land \\lnot p_{4}))\n",
      "mathjax   p_{1} \\mathbin{\\mathsf{U}} (p_{2} \\mathbin{\\mathsf{R}} (p_{3} \\land \\lnot p_{4}))\n"
     ]
    }
   ],
   "source": [
    "for i in ['spot', 'spin', 'lbt', 'wring', 'utf8', 'latex', 'sclatex', 'mathjax']:\n",
    "    print(\"%-10s%s\" % (i, f.to_str(i)))"
   ]
  },
  {
   "cell_type": "markdown",
   "metadata": {},
   "source": [
    "Formulas output via `format()` can also use some convenient shorthand to select the syntax:"
   ]
  },
  {
   "cell_type": "code",
   "execution_count": 8,
   "metadata": {},
   "outputs": [
    {
     "name": "stdout",
     "output_type": "stream",
     "text": [
      "Spin:               p1 U (p2 V (p3 && !p4))\n",
      "Spin+parentheses:   (p1) U ((p2) V ((p3) && (!(p4))))\n",
      "Spot (default):     p1 U (p2 R (p3 & !p4))\n",
      "Spot+shell quotes:  'p1 U (p2 R (p3 & !p4))'\n",
      "LBT, right aligned: ~~~~~~~~~~~~~~~~~~~~~U p1 V p2 & p3 ! p4\n",
      "LBT, no M/W/R:      U p1 U & p3 ! p4 | & & p2 p3 ! p4 G & p3 ! p4\n"
     ]
    }
   ],
   "source": [
    "print(\"\"\"\\\n",
    "Spin:               {0:s}\n",
    "Spin+parentheses:   {0:sp}\n",
    "Spot (default):     {0}\n",
    "Spot+shell quotes:  {0:q}\n",
    "LBT, right aligned: {0:l:~>40}\n",
    "LBT, no M/W/R:      {0:[MWR]l}\"\"\".format(f))"
   ]
  },
  {
   "cell_type": "markdown",
   "metadata": {},
   "source": [
    "The specifiers that can be used with `format` are documented as follows:"
   ]
  },
  {
   "cell_type": "code",
   "execution_count": 9,
   "metadata": {},
   "outputs": [
    {
     "name": "stdout",
     "output_type": "stream",
     "text": [
      "Help on function __format__ in module spot:\n",
      "\n",
      "__format__(self, spec)\n",
      "    Format the formula according to `spec`.\n",
      "    \n",
      "    Parameters\n",
      "    ----------\n",
      "    spec : str, optional\n",
      "        a list of letters that specify how the formula\n",
      "        should be formatted.\n",
      "    \n",
      "    Supported specifiers\n",
      "    --------------------\n",
      "    \n",
      "    - 'f': use Spot's syntax (default)\n",
      "    - '8': use Spot's syntax in UTF-8 mode\n",
      "    - 's': use Spin's syntax\n",
      "    - 'l': use LBT's syntax\n",
      "    - 'w': use Wring's syntax\n",
      "    - 'x': use LaTeX output\n",
      "    - 'X': use self-contained LaTeX output\n",
      "    - 'j': use self-contained LaTeX output, adjusted for MathJax\n",
      "    \n",
      "    Add some of those letters for additional options:\n",
      "    \n",
      "    - 'p': use full parentheses\n",
      "    - 'c': escape the formula for CSV output (this will\n",
      "           enclose the formula in double quotes, and escape\n",
      "           any included double quotes)\n",
      "    - 'h': escape the formula for HTML output\n",
      "    - 'd': escape double quotes and backslash,\n",
      "           for use in C-strings (the outermost double\n",
      "           quotes are *not* added)\n",
      "    - 'q': quote and escape for shell output, using single\n",
      "           quotes or double quotes depending on the contents.\n",
      "    - '[...]': rewrite away all the operators specified in brackets,\n",
      "           using spot.unabbreviate().\n",
      "    \n",
      "    - ':spec': pass the remaining specification to the\n",
      "               formating function for strings.\n",
      "\n"
     ]
    }
   ],
   "source": [
    "help(spot.formula.__format__)"
   ]
  },
  {
   "cell_type": "markdown",
   "metadata": {},
   "source": [
    "A `spot.formula` object has a number of built-in predicates whose value have been computed when the formula was constructed.  For instance you can check whether a formula is in negative normal form using `is_in_nenoform()`, and you can make sure it is an LTL formula (i.e. not a PSL formula) using `is_ltl_formula()`:"
   ]
  },
  {
   "cell_type": "code",
   "execution_count": 10,
   "metadata": {},
   "outputs": [
    {
     "data": {
      "text/plain": [
       "True"
      ]
     },
     "execution_count": 10,
     "metadata": {},
     "output_type": "execute_result"
    }
   ],
   "source": [
    "f.is_in_nenoform() and f.is_ltl_formula()"
   ]
  },
  {
   "cell_type": "code",
   "execution_count": 11,
   "metadata": {},
   "outputs": [
    {
     "data": {
      "text/plain": [
       "False"
      ]
     },
     "execution_count": 11,
     "metadata": {},
     "output_type": "execute_result"
    }
   ],
   "source": [
    "g.is_ltl_formula()"
   ]
  },
  {
   "cell_type": "markdown",
   "metadata": {},
   "source": [
    "Similarly, `is_syntactic_stutter_invariant()` tells wether the structure of the formula guarranties it to be stutter invariant.  For LTL formula, this means the `X` operator should not be used.  For PSL formula, this function capture all formulas built using the [siPSL grammar](http://www.daxc.de/eth/paper/09atva.pdf)."
   ]
  },
  {
   "cell_type": "code",
   "execution_count": 12,
   "metadata": {},
   "outputs": [
    {
     "data": {
      "text/plain": [
       "True"
      ]
     },
     "execution_count": 12,
     "metadata": {},
     "output_type": "execute_result"
    }
   ],
   "source": [
    "f.is_syntactic_stutter_invariant()"
   ]
  },
  {
   "cell_type": "code",
   "execution_count": 13,
   "metadata": {},
   "outputs": [
    {
     "data": {
      "text/plain": [
       "False"
      ]
     },
     "execution_count": 13,
     "metadata": {},
     "output_type": "execute_result"
    }
   ],
   "source": [
    "spot.formula('{a[*];b}<>->c').is_syntactic_stutter_invariant()"
   ]
  },
  {
   "cell_type": "code",
   "execution_count": 14,
   "metadata": {},
   "outputs": [
    {
     "data": {
      "text/plain": [
       "True"
      ]
     },
     "execution_count": 14,
     "metadata": {},
     "output_type": "execute_result"
    }
   ],
   "source": [
    "spot.formula('{a[+];b[*]}<>->d').is_syntactic_stutter_invariant()"
   ]
  },
  {
   "cell_type": "markdown",
   "metadata": {},
   "source": [
    "`spot.relabel` renames the atomic propositions that occur in a formula, using either letters, or numbered propositions:"
   ]
  },
  {
   "cell_type": "code",
   "execution_count": 15,
   "metadata": {},
   "outputs": [
    {
     "data": {
      "text/latex": [
       "$\\unicode{x201C}\\mathit{a > b}\\unicode{x201D} \\land \\unicode{x201C}\\mathit{proc[2]@init}\\unicode{x201D} \\land \\mathsf{G} \\mathsf{F} \\mathit{\\_foo\\_}$"
      ],
      "text/plain": [
       "spot.formula(\"\\\"a > b\\\" & \\\"proc[2]@init\\\" & GF_foo_\")"
      ]
     },
     "execution_count": 15,
     "metadata": {},
     "output_type": "execute_result"
    }
   ],
   "source": [
    "gf = spot.formula('(GF_foo_) && \"a > b\" && \"proc[2]@init\"'); gf"
   ]
  },
  {
   "cell_type": "code",
   "execution_count": 16,
   "metadata": {},
   "outputs": [
    {
     "data": {
      "text/latex": [
       "$a \\land b \\land \\mathsf{G} \\mathsf{F} c$"
      ],
      "text/plain": [
       "spot.formula(\"a & b & GFc\")"
      ]
     },
     "execution_count": 16,
     "metadata": {},
     "output_type": "execute_result"
    }
   ],
   "source": [
    "spot.relabel(gf, spot.Abc)"
   ]
  },
  {
   "cell_type": "code",
   "execution_count": 17,
   "metadata": {},
   "outputs": [
    {
     "data": {
      "text/latex": [
       "$p_{0} \\land p_{1} \\land \\mathsf{G} \\mathsf{F} p_{2}$"
      ],
      "text/plain": [
       "spot.formula(\"p0 & p1 & GFp2\")"
      ]
     },
     "execution_count": 17,
     "metadata": {},
     "output_type": "execute_result"
    }
   ],
   "source": [
    "spot.relabel(gf, spot.Pnn)"
   ]
  },
  {
   "cell_type": "markdown",
   "metadata": {},
   "source": [
    "The AST of any formula can be displayed with `show_ast()`.  Despite the name, this is not a tree but a DAG, because identical subtrees are merged.  Binary operators have their left and right operands denoted with `L` and `R`, while non-commutative n-ary operators have their operands numbered."
   ]
  },
  {
   "cell_type": "code",
   "execution_count": 18,
   "metadata": {},
   "outputs": [
    {
     "name": "stdout",
     "output_type": "stream",
     "text": [
      "{a;b[*];c[+]}<>-> (c & GFb)\n"
     ]
    },
    {
     "data": {
      "image/svg+xml": [
       "<svg height=\"332pt\" viewBox=\"0.00 0.00 299.00 332.00\" width=\"299pt\" xmlns=\"http://www.w3.org/2000/svg\" xmlns:xlink=\"http://www.w3.org/1999/xlink\">\n",
       "<g class=\"graph\" id=\"graph0\" transform=\"scale(1 1) rotate(0) translate(4 328)\">\n",
       "<title>G</title>\n",
       "<polygon fill=\"#ffffff\" points=\"-4,4 -4,-328 295,-328 295,4 -4,4\" stroke=\"transparent\"/>\n",
       "<!-- 0 -->\n",
       "<g class=\"node\" id=\"node1\">\n",
       "<title>0</title>\n",
       "<ellipse cx=\"177\" cy=\"-306\" fill=\"none\" rx=\"40.8928\" ry=\"18\" stroke=\"#000000\"/>\n",
       "<text fill=\"#000000\" font-family=\"Times,serif\" font-size=\"14.00\" text-anchor=\"middle\" x=\"177\" y=\"-302.3\">EConcat</text>\n",
       "</g>\n",
       "<!-- 1 -->\n",
       "<g class=\"node\" id=\"node2\">\n",
       "<title>1</title>\n",
       "<ellipse cx=\"114\" cy=\"-162\" fill=\"none\" rx=\"35.9954\" ry=\"18\" stroke=\"#000000\"/>\n",
       "<text fill=\"#000000\" font-family=\"Times,serif\" font-size=\"14.00\" text-anchor=\"middle\" x=\"114\" y=\"-158.3\">Concat</text>\n",
       "</g>\n",
       "<!-- 0&#45;&gt;1 -->\n",
       "<g class=\"edge\" id=\"edge6\">\n",
       "<title>0-&gt;1</title>\n",
       "<path d=\"M169.1484,-288.0535C158.2902,-263.2347 138.5973,-218.2224 125.9187,-189.2428\" fill=\"none\" stroke=\"#000000\"/>\n",
       "<polygon fill=\"#000000\" points=\"128.9675,-187.4791 121.7527,-179.7204 122.5543,-190.2848 128.9675,-187.4791\" stroke=\"#000000\"/>\n",
       "<text fill=\"#000000\" font-family=\"Times,serif\" font-size=\"14.00\" text-anchor=\"middle\" x=\"164.6484\" y=\"-276.8535\">L</text>\n",
       "</g>\n",
       "<!-- 7 -->\n",
       "<g class=\"node\" id=\"node8\">\n",
       "<title>7</title>\n",
       "<ellipse cx=\"209\" cy=\"-234\" fill=\"none\" rx=\"27\" ry=\"18\" stroke=\"#000000\"/>\n",
       "<text fill=\"#000000\" font-family=\"Times,serif\" font-size=\"14.00\" text-anchor=\"middle\" x=\"209\" y=\"-230.3\">And</text>\n",
       "</g>\n",
       "<!-- 0&#45;&gt;7 -->\n",
       "<g class=\"edge\" id=\"edge11\">\n",
       "<title>0-&gt;7</title>\n",
       "<path d=\"M184.9101,-288.2022C188.619,-279.8574 193.1148,-269.7417 197.2135,-260.5197\" fill=\"none\" stroke=\"#000000\"/>\n",
       "<polygon fill=\"#000000\" points=\"200.4282,-261.9042 201.2913,-251.3446 194.0315,-259.0612 200.4282,-261.9042\" stroke=\"#000000\"/>\n",
       "<text fill=\"#000000\" font-family=\"Times,serif\" font-size=\"14.00\" text-anchor=\"middle\" x=\"179.9101\" y=\"-277.0022\">R</text>\n",
       "</g>\n",
       "<!-- 2 -->\n",
       "<g class=\"node\" id=\"node3\">\n",
       "<title>2</title>\n",
       "<polygon fill=\"none\" points=\"54,-36 0,-36 0,0 54,0 54,-36\" stroke=\"#000000\"/>\n",
       "<text fill=\"#000000\" font-family=\"Times,serif\" font-size=\"14.00\" text-anchor=\"middle\" x=\"27\" y=\"-14.3\">a</text>\n",
       "</g>\n",
       "<!-- 1&#45;&gt;2 -->\n",
       "<g class=\"edge\" id=\"edge1\">\n",
       "<title>1-&gt;2</title>\n",
       "<path d=\"M89.6281,-148.603C74.758,-139.1708 56.625,-125.1808 46,-108 34.5017,-89.407 29.8676,-64.9633 28.0445,-46.243\" fill=\"none\" stroke=\"#000000\"/>\n",
       "<polygon fill=\"#000000\" points=\"31.5318,-45.9421 27.2801,-36.2378 24.5521,-46.4754 31.5318,-45.9421\" stroke=\"#000000\"/>\n",
       "<text fill=\"#000000\" font-family=\"Times,serif\" font-size=\"14.00\" text-anchor=\"middle\" x=\"86.1281\" y=\"-137.403\">1</text>\n",
       "</g>\n",
       "<!-- 3 -->\n",
       "<g class=\"node\" id=\"node4\">\n",
       "<title>3</title>\n",
       "<ellipse cx=\"154\" cy=\"-90\" fill=\"none\" rx=\"27\" ry=\"18\" stroke=\"#000000\"/>\n",
       "<text fill=\"#000000\" font-family=\"Times,serif\" font-size=\"14.00\" text-anchor=\"middle\" x=\"154\" y=\"-86.3\">Star</text>\n",
       "</g>\n",
       "<!-- 1&#45;&gt;3 -->\n",
       "<g class=\"edge\" id=\"edge3\">\n",
       "<title>1-&gt;3</title>\n",
       "<path d=\"M123.6829,-144.5708C128.3996,-136.0807 134.1706,-125.6929 139.407,-116.2674\" fill=\"none\" stroke=\"#000000\"/>\n",
       "<polygon fill=\"#000000\" points=\"142.6094,-117.71 144.4063,-107.2687 136.4903,-114.3105 142.6094,-117.71\" stroke=\"#000000\"/>\n",
       "<text fill=\"#000000\" font-family=\"Times,serif\" font-size=\"14.00\" text-anchor=\"middle\" x=\"120.1829\" y=\"-133.3708\">2</text>\n",
       "</g>\n",
       "<!-- 5 -->\n",
       "<g class=\"node\" id=\"node6\">\n",
       "<title>5</title>\n",
       "<ellipse cx=\"82\" cy=\"-90\" fill=\"none\" rx=\"27\" ry=\"18\" stroke=\"#000000\"/>\n",
       "<text fill=\"#000000\" font-family=\"Times,serif\" font-size=\"14.00\" text-anchor=\"middle\" x=\"82\" y=\"-86.3\">Star</text>\n",
       "</g>\n",
       "<!-- 1&#45;&gt;5 -->\n",
       "<g class=\"edge\" id=\"edge5\">\n",
       "<title>1-&gt;5</title>\n",
       "<path d=\"M106.0899,-144.2022C102.381,-135.8574 97.8852,-125.7417 93.7865,-116.5197\" fill=\"none\" stroke=\"#000000\"/>\n",
       "<polygon fill=\"#000000\" points=\"96.9685,-115.0612 89.7087,-107.3446 90.5718,-117.9042 96.9685,-115.0612\" stroke=\"#000000\"/>\n",
       "<text fill=\"#000000\" font-family=\"Times,serif\" font-size=\"14.00\" text-anchor=\"middle\" x=\"102.5899\" y=\"-133.0022\">3</text>\n",
       "</g>\n",
       "<!-- 4 -->\n",
       "<g class=\"node\" id=\"node5\">\n",
       "<title>4</title>\n",
       "<polygon fill=\"none\" points=\"267,-36 213,-36 213,0 267,0 267,-36\" stroke=\"#000000\"/>\n",
       "<text fill=\"#000000\" font-family=\"Times,serif\" font-size=\"14.00\" text-anchor=\"middle\" x=\"240\" y=\"-14.3\">b</text>\n",
       "</g>\n",
       "<!-- 3&#45;&gt;4 -->\n",
       "<g class=\"edge\" id=\"edge2\">\n",
       "<title>3-&gt;4</title>\n",
       "<path d=\"M170.9908,-75.7751C182.2603,-66.3402 197.3476,-53.709 210.5409,-42.6634\" fill=\"none\" stroke=\"#000000\"/>\n",
       "<polygon fill=\"#000000\" points=\"213.039,-45.1367 218.4598,-36.0336 208.5454,-39.7694 213.039,-45.1367\" stroke=\"#000000\"/>\n",
       "</g>\n",
       "<!-- 6 -->\n",
       "<g class=\"node\" id=\"node7\">\n",
       "<title>6</title>\n",
       "<polygon fill=\"none\" points=\"172,-36 118,-36 118,0 172,0 172,-36\" stroke=\"#000000\"/>\n",
       "<text fill=\"#000000\" font-family=\"Times,serif\" font-size=\"14.00\" text-anchor=\"middle\" x=\"145\" y=\"-14.3\">c</text>\n",
       "</g>\n",
       "<!-- 5&#45;&gt;6 -->\n",
       "<g class=\"edge\" id=\"edge4\">\n",
       "<title>5-&gt;6</title>\n",
       "<path d=\"M95.6701,-74.3771C103.514,-65.4125 113.5574,-53.9344 122.5323,-43.6774\" fill=\"none\" stroke=\"#000000\"/>\n",
       "<polygon fill=\"#000000\" points=\"125.1819,-45.9643 129.1329,-36.1338 119.9138,-41.3548 125.1819,-45.9643\" stroke=\"#000000\"/>\n",
       "</g>\n",
       "<!-- 7&#45;&gt;6 -->\n",
       "<g class=\"edge\" id=\"edge7\">\n",
       "<title>7-&gt;6</title>\n",
       "<path d=\"M210.1584,-215.6415C211.4052,-184.6687 210.9012,-120.6548 190,-72 185.6198,-61.8035 178.6732,-52.0371 171.5362,-43.6819\" fill=\"none\" stroke=\"#000000\"/>\n",
       "<polygon fill=\"#000000\" points=\"174.0158,-41.2056 164.7127,-36.1357 168.8236,-45.9005 174.0158,-41.2056\" stroke=\"#000000\"/>\n",
       "</g>\n",
       "<!-- 8 -->\n",
       "<g class=\"node\" id=\"node9\">\n",
       "<title>8</title>\n",
       "<ellipse cx=\"264\" cy=\"-162\" fill=\"none\" rx=\"27\" ry=\"18\" stroke=\"#000000\"/>\n",
       "<text fill=\"#000000\" font-family=\"Times,serif\" font-size=\"14.00\" text-anchor=\"middle\" x=\"264\" y=\"-158.3\">G</text>\n",
       "</g>\n",
       "<!-- 7&#45;&gt;8 -->\n",
       "<g class=\"edge\" id=\"edge10\">\n",
       "<title>7-&gt;8</title>\n",
       "<path d=\"M221.4804,-217.6621C228.5124,-208.4564 237.4347,-196.7764 245.2883,-186.4953\" fill=\"none\" stroke=\"#000000\"/>\n",
       "<polygon fill=\"#000000\" points=\"248.28,-188.3446 251.569,-178.2733 242.7172,-184.0953 248.28,-188.3446\" stroke=\"#000000\"/>\n",
       "</g>\n",
       "<!-- 9 -->\n",
       "<g class=\"node\" id=\"node10\">\n",
       "<title>9</title>\n",
       "<ellipse cx=\"264\" cy=\"-90\" fill=\"none\" rx=\"27\" ry=\"18\" stroke=\"#000000\"/>\n",
       "<text fill=\"#000000\" font-family=\"Times,serif\" font-size=\"14.00\" text-anchor=\"middle\" x=\"264\" y=\"-86.3\">F</text>\n",
       "</g>\n",
       "<!-- 8&#45;&gt;9 -->\n",
       "<g class=\"edge\" id=\"edge9\">\n",
       "<title>8-&gt;9</title>\n",
       "<path d=\"M264,-143.8314C264,-136.131 264,-126.9743 264,-118.4166\" fill=\"none\" stroke=\"#000000\"/>\n",
       "<polygon fill=\"#000000\" points=\"267.5001,-118.4132 264,-108.4133 260.5001,-118.4133 267.5001,-118.4132\" stroke=\"#000000\"/>\n",
       "</g>\n",
       "<!-- 9&#45;&gt;4 -->\n",
       "<g class=\"edge\" id=\"edge8\">\n",
       "<title>9-&gt;4</title>\n",
       "<path d=\"M258.0674,-72.2022C255.4049,-64.2146 252.2015,-54.6045 249.2362,-45.7087\" fill=\"none\" stroke=\"#000000\"/>\n",
       "<polygon fill=\"#000000\" points=\"252.5138,-44.4731 246.031,-36.0931 245.873,-46.6868 252.5138,-44.4731\" stroke=\"#000000\"/>\n",
       "</g>\n",
       "</g>\n",
       "</svg>"
      ],
      "text/plain": [
       "<IPython.core.display.SVG object>"
      ]
     },
     "execution_count": 18,
     "metadata": {},
     "output_type": "execute_result"
    }
   ],
   "source": [
    "print(g); g.show_ast()"
   ]
  },
  {
   "cell_type": "markdown",
   "metadata": {},
   "source": [
    "Any formula can also be classified in the temporal hierarchy of Manna & Pnueli"
   ]
  },
  {
   "cell_type": "code",
   "execution_count": 19,
   "metadata": {},
   "outputs": [
    {
     "data": {
      "image/svg+xml": [
       "<svg height=\"210\" version=\"1.1\" width=\"220\" xmlns=\"http://www.w3.org/2000/svg\">\n",
       "<polygon fill=\"cyan\" opacity=\".2\" points=\"20,0 200,120 200,210 20,210\"/>\n",
       "<polygon fill=\"cyan\" opacity=\".2\" points=\"20,120 155,210 20,210\"/>\n",
       "<polygon fill=\"magenta\" opacity=\".15\" points=\"200,0 20,120 20,210 200,210\"/>\n",
       "<polygon fill=\"magenta\" opacity=\".15\" points=\"200,120 65,210 200,210\"/>\n",
       "<g transform=\"translate(40,80)\">\n",
       "    <line stroke=\"red\" stroke-width=\"5\" x1=\"-10\" x2=\"10\" y1=\"-10\" y2=\"10\"/>\n",
       "    <line stroke=\"red\" stroke-width=\"5\" x1=\"-10\" x2=\"10\" y1=\"10\" y2=\"-10\"/>\n",
       "    </g>\n",
       "<g font-size=\"14\" text-anchor=\"middle\">\n",
       "<text x=\"110\" y=\"20\">Reactivity</text>\n",
       "<text x=\"60\" y=\"65\">Recurrence</text>\n",
       "<text x=\"160\" y=\"65\">Persistence</text>\n",
       "<text x=\"110\" y=\"125\">Obligation</text>\n",
       "<text x=\"60\" y=\"185\">Safety</text>\n",
       "<text x=\"160\" y=\"185\">Guarantee</text>\n",
       "</g>\n",
       "<g font-size=\"14\">\n",
       "<text fill=\"gray\" text-anchor=\"begin\" transform=\"rotate(-90,18,210)\" x=\"18\" y=\"210\">Monitor</text>\n",
       "<text fill=\"gray\" text-anchor=\"end\" transform=\"rotate(-90,18,0)\" x=\"18\" y=\"0\">Deterministic Büchi</text>\n",
       "<text fill=\"gray\" text-anchor=\"begin\" transform=\"rotate(-90,214,210)\" x=\"214\" y=\"210\">Terminal Büchi</text>\n",
       "<text fill=\"gray\" text-anchor=\"end\" transform=\"rotate(-90,214,0)\" x=\"214\" y=\"0\">Weak Büchi</text>\n",
       "</g>\n",
       "</svg>"
      ],
      "text/plain": [
       "<IPython.core.display.SVG object>"
      ]
     },
     "execution_count": 19,
     "metadata": {},
     "output_type": "execute_result"
    }
   ],
   "source": [
    "g.show_mp_hierarchy()"
   ]
  },
  {
   "cell_type": "code",
   "execution_count": 20,
   "metadata": {},
   "outputs": [
    {
     "data": {
      "text/plain": [
       "'recurrence'"
      ]
     },
     "execution_count": 20,
     "metadata": {},
     "output_type": "execute_result"
    }
   ],
   "source": [
    "spot.mp_class(g, 'v')"
   ]
  },
  {
   "cell_type": "code",
   "execution_count": 21,
   "metadata": {},
   "outputs": [
    {
     "data": {
      "text/latex": [
       "$\\mathsf{F} (a \\land \\mathsf{X} (\\lnot a \\land b))$"
      ],
      "text/plain": [
       "spot.formula(\"F(a & X(!a & b))\")"
      ]
     },
     "execution_count": 21,
     "metadata": {},
     "output_type": "execute_result"
    }
   ],
   "source": [
    "f = spot.formula('F(a & X(!a & b))'); f"
   ]
  },
  {
   "cell_type": "markdown",
   "metadata": {},
   "source": [
    "Etessami's rule for removing X (valid only in stutter-invariant formulas)"
   ]
  },
  {
   "cell_type": "code",
   "execution_count": 22,
   "metadata": {},
   "outputs": [
    {
     "data": {
      "text/latex": [
       "$\\mathsf{F} (a \\land ((a \\land (a \\mathbin{\\mathsf{U}} (\\lnot a \\land b)) \\land ((\\lnot b \\mathbin{\\mathsf{U}} \\lnot a) \\lor (b \\mathbin{\\mathsf{U}} \\lnot a))) \\lor (\\lnot a \\land (\\lnot a \\mathbin{\\mathsf{U}} (a \\land \\lnot a \\land b)) \\land ((\\lnot b \\mathbin{\\mathsf{U}} a) \\lor (b \\mathbin{\\mathsf{U}} a))) \\lor (b \\land (b \\mathbin{\\mathsf{U}} (\\lnot a \\land b \\land \\lnot b)) \\land ((\\lnot a \\mathbin{\\mathsf{U}} \\lnot b) \\lor (a \\mathbin{\\mathsf{U}} \\lnot b))) \\lor (\\lnot b \\land (\\lnot b \\mathbin{\\mathsf{U}} (\\lnot a \\land b)) \\land ((\\lnot a \\mathbin{\\mathsf{U}} b) \\lor (a \\mathbin{\\mathsf{U}} b))) \\lor (\\lnot a \\land b \\land (\\mathsf{G} \\lnot a \\lor \\mathsf{G} a) \\land (\\mathsf{G} \\lnot b \\lor \\mathsf{G} b))))$"
      ],
      "text/plain": [
       "spot.formula(\"F(a & ((a & (a U (!a & b)) & ((!b U !a) | (b U !a))) | (!a & (!a U (a & !a & b)) & ((!b U a) | (b U a))) | (b & (b U (!a & b & !b)) & ((!a U !b) | (a U !b))) | (!b & (!b U (!a & b)) & ((!a U b) | (a U b))) | (!a & b & (G!a | Ga) & (G!b | Gb))))\")"
      ]
     },
     "execution_count": 22,
     "metadata": {},
     "output_type": "execute_result"
    }
   ],
   "source": [
    "spot.remove_x(f)"
   ]
  },
  {
   "cell_type": "markdown",
   "metadata": {},
   "source": [
    "Removing abbreviated operators"
   ]
  },
  {
   "cell_type": "code",
   "execution_count": 23,
   "metadata": {},
   "outputs": [
    {
     "data": {
      "text/latex": [
       "$(\\bot \\mathbin{\\mathsf{R}} \\lnot (a \\leftrightarrow b)) \\rightarrow (\\top \\mathbin{\\mathsf{U}} (a \\leftrightarrow b))$"
      ],
      "text/plain": [
       "spot.formula(\"(0 R !(a <-> b)) -> (1 U (a <-> b))\")"
      ]
     },
     "execution_count": 23,
     "metadata": {},
     "output_type": "execute_result"
    }
   ],
   "source": [
    "f = spot.formula(\"G(a xor b) -> F(a <-> b)\")\n",
    "spot.unabbreviate(f, \"GF^\")"
   ]
  },
  {
   "cell_type": "code",
   "execution_count": 24,
   "metadata": {},
   "outputs": [
    {
     "data": {
      "text/latex": [
       "$(\\top \\mathbin{\\mathsf{U}} ((a \\land b) \\lor (\\lnot a \\land \\lnot b))) \\lor \\lnot (\\bot \\mathbin{\\mathsf{R}} ((\\lnot a \\land b) \\lor (a \\land \\lnot b)))$"
      ],
      "text/plain": [
       "spot.formula(\"(1 U ((a & b) | (!a & !b))) | !(0 R ((!a & b) | (a & !b)))\")"
      ]
     },
     "execution_count": 24,
     "metadata": {},
     "output_type": "execute_result"
    }
   ],
   "source": [
    "spot.unabbreviate(f, \"GF^ei\")"
   ]
  },
  {
   "cell_type": "markdown",
   "metadata": {},
   "source": [
    "Nesting level of operators"
   ]
  },
  {
   "cell_type": "code",
   "execution_count": 25,
   "metadata": {},
   "outputs": [
    {
     "name": "stdout",
     "output_type": "stream",
     "text": [
      "U 3\n",
      "F 2\n",
      "U 3\n",
      "F 2\n",
      "FU 4\n"
     ]
    }
   ],
   "source": [
    "f = spot.formula('F(b & X(a U b U ((a W Fb) | (c U d))))')\n",
    "print(\"U\", spot.nesting_depth(f, spot.op_U))\n",
    "print(\"F\", spot.nesting_depth(f, spot.op_F))\n",
    "# These following two are syntactic sugar for the above two\n",
    "print(\"U\", spot.nesting_depth(f, \"U\"))\n",
    "print(\"F\", spot.nesting_depth(f, \"F\"))\n",
    "# If you want to consider \"U\" and \"F\" are a similar type of\n",
    "# operator, you can count both with\n",
    "print(\"FU\", spot.nesting_depth(f, \"FU\"))"
   ]
  },
  {
   "cell_type": "markdown",
   "metadata": {},
   "source": [
    "Collecting the set of atomic propositions used by a formula:"
   ]
  },
  {
   "cell_type": "code",
   "execution_count": 26,
   "metadata": {},
   "outputs": [
    {
     "name": "stdout",
     "output_type": "stream",
     "text": [
      "spot.atomic_prop_set([spot.formula(\"a\"), spot.formula(\"b\"), spot.formula(\"c\"), spot.formula(\"d\")])\n",
      "{\"a\", \"b\", \"c\", \"d\"}\n"
     ]
    },
    {
     "data": {
      "text/latex": [
       "$\\{\\unicode{x201C}a\\unicode{x201D}, \\unicode{x201C}b\\unicode{x201D}, \\unicode{x201C}c\\unicode{x201D}, \\unicode{x201C}d\\unicode{x201D}\\}$"
      ],
      "text/plain": [
       "spot.atomic_prop_set([spot.formula(\"a\"), spot.formula(\"b\"), spot.formula(\"c\"), spot.formula(\"d\")])"
      ]
     },
     "metadata": {},
     "output_type": "display_data"
    }
   ],
   "source": [
    "ap = spot.atomic_prop_collect(f)\n",
    "print(repr(ap))  # print as an atomic_prop_set object\n",
    "print(ap)        # print as a string\n",
    "display(ap)      # LaTeX-style, for notebooks"
   ]
  }
 ],
 "metadata": {
  "kernelspec": {
   "display_name": "Python 3",
   "language": "python",
   "name": "python3"
  },
  "language_info": {
   "codemirror_mode": {
    "name": "ipython",
    "version": 3
   },
   "file_extension": ".py",
   "mimetype": "text/x-python",
   "name": "python",
   "nbconvert_exporter": "python",
   "pygments_lexer": "ipython3",
   "version": "3.7.1"
  }
 },
 "nbformat": 4,
 "nbformat_minor": 2
}
